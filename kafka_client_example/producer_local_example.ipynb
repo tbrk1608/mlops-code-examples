{
 "cells": [
  {
   "cell_type": "code",
   "execution_count": 1,
   "id": "18669f83-1d05-4af8-b2c0-12ed1d0920d6",
   "metadata": {},
   "outputs": [],
   "source": [
    "from confluent_kafka import Producer\n",
    "import socket\n",
    "\n",
    "conf = {'bootstrap.servers': \"localhost:9092\",\n",
    "        'client.id': socket.gethostname()}\n",
    "\n",
    "producer = Producer(conf)"
   ]
  },
  {
   "cell_type": "code",
   "execution_count": 4,
   "id": "c4fd9b3b-1bf4-42c8-93aa-282a750262f7",
   "metadata": {},
   "outputs": [],
   "source": [
    "producer.produce(\"TutorialTopic\", key=\"key\", value=\"value2\")"
   ]
  },
  {
   "cell_type": "code",
   "execution_count": null,
   "id": "ed58b93e-628d-4101-99c0-12f38d491c24",
   "metadata": {},
   "outputs": [],
   "source": []
  }
 ],
 "metadata": {
  "kernelspec": {
   "display_name": "Python 3",
   "language": "python",
   "name": "python3"
  },
  "language_info": {
   "codemirror_mode": {
    "name": "ipython",
    "version": 3
   },
   "file_extension": ".py",
   "mimetype": "text/x-python",
   "name": "python",
   "nbconvert_exporter": "python",
   "pygments_lexer": "ipython3",
   "version": "3.8.11"
  }
 },
 "nbformat": 4,
 "nbformat_minor": 5
}
